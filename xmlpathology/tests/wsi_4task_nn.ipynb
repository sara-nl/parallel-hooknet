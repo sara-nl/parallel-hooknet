{
 "cells": [
  {
   "cell_type": "code",
   "execution_count": 1,
   "metadata": {},
   "outputs": [],
   "source": [
    "import yaml\n",
    "from pprint import pprint\n",
    "from xmlpathology.xmlbatchgenerator.auxiliary import WSIPatchGenerator\n",
    "from tqdm.notebook import tqdm\n",
    "from tensorflow.keras.models import load_model\n",
    "from sklearn.neighbors import DistanceMetric\n",
    "import tensorflow.keras as K\n",
    "from matplotlib import pyplot as plt\n",
    "import numpy as np\n",
    "import math\n",
    "import time\n",
    "from xmlpathology.io.imagereader import ImageReader\n",
    "\n",
    "def blockshaped(arr, nrows, ncols):\n",
    "    \"\"\"\n",
    "    Return an array of shape (n, nrows, ncols) where\n",
    "    n * nrows * ncols = arr.size\n",
    "\n",
    "    If arr is a 2D array, the returned array should look like n subblocks with\n",
    "    each subblock preserving the \"physical\" layout of arr.\n",
    "    \"\"\"\n",
    "    h, w, c = arr.shape\n",
    "    return (arr.reshape(h//nrows, nrows, -1, ncols, c)\n",
    "               .swapaxes(1,2)\n",
    "               .reshape(-1, nrows, ncols, c))\n",
    "\n",
    "\n",
    "def apply(model, data_sources, patch_shape=(256,256,3), spacing=0.5, tile_shape=(1024,1024), shift=1024, cpus=1, log_path=None):\n",
    "    \n",
    "    batchgen = WSIPatchGenerator(data_sources=data_sources,\n",
    "                                 batch_size=1,\n",
    "                                 patch_shape=tile_shape,\n",
    "                                 shift=shift,\n",
    "                                 cpus=cpus,\n",
    "                                 spacing=spacing,\n",
    "                                 log_path=log_path)\n",
    "    support_set = np.load('/home/mart/Radboudumc/data/lymphocytes/1079_CD3_artifact_support.npy')\n",
    "    support_encodings = model.predict_on_batch(support_set)\n",
    "    batchgen.start()\n",
    "    \n",
    "    for image_annotation in batchgen().datasets['training'].image_annotations:\n",
    "        ratio = image_annotation.get_ratio(spacing)\n",
    "        for annotation in tqdm(image_annotation.annotations):\n",
    "            batch = batchgen.batch('training')\n",
    "            tile = batch[0][0][0][0]\n",
    "            patches = blockshaped(tile, patch_shape[0], patch_shape[1])\n",
    "            print(patches.shape)\n",
    "            predictions = model.predict_on_batch(patches)\n",
    "            print(predictions.shape)\n",
    "            distance_metric = DistanceMetric.get_metric('euclidean')\n",
    "            print(predictions.shape)\n",
    "            d = distance_metric.pairwise(X=predictions, Y=support_encodings)\n",
    "            d = (d < 14).astype('uint8')\n",
    "            print(d)\n",
    "            break\n"
   ]
  },
  {
   "cell_type": "code",
   "execution_count": 2,
   "metadata": {},
   "outputs": [
    {
     "name": "stdout",
     "output_type": "stream",
     "text": [
      "{'training': [{'annotation_path': '/home/mart/Radboudumc/data/lymphocytes/1079_CD3.mrxs',\n",
      "               'image_path': '/home/mart/Radboudumc/data/lymphocytes/1079_CD3.mrxs'}]}\n"
     ]
    }
   ],
   "source": [
    "# #Data setup\n",
    "# data_sources_path = '/home/mart/Radboudumc/data/lymphocytes/lymphocytes.yml'\n",
    "# with open(data_sources_path) as f:\n",
    "#     data_sources = yaml.load(f, yaml.FullLoader)\n",
    "# print('data sources:')\n",
    "data_sources = {'training': [{'image_path': '/home/mart/Radboudumc/data/lymphocytes/1079_CD3.mrxs', 'annotation_path': '/home/mart/Radboudumc/data/lymphocytes/1079_CD3.mrxs'}]}\n",
    "pprint(data_sources)\n",
    "label_map={'dot':1}"
   ]
  },
  {
   "cell_type": "code",
   "execution_count": 3,
   "metadata": {},
   "outputs": [],
   "source": [
    "# setup model\n",
    "\n",
    "model = load_model('/home/mart/Radboudumc/data/4taskencoder/supervsied_enc_2019_4tasks.h5', compile=False)\n",
    "spacing = 2.0\n",
    "cpus = 6\n",
    "tile_shape = (1024, 1024)\n",
    "shift = 1024\n",
    "patch_shape = (64, 64)\n",
    "batch_size = 1"
   ]
  },
  {
   "cell_type": "code",
   "execution_count": 2,
   "metadata": {},
   "outputs": [],
   "source": [
    "# apply(model=model, data_sources= data_sources, patch_shape=patch_shape, spacing=spacing, tile_shape=tile_shape, shift=shift, cpus=1)"
   ]
  },
  {
   "cell_type": "code",
   "execution_count": 55,
   "metadata": {},
   "outputs": [],
   "source": [
    "# batchgen.stop()"
   ]
  },
  {
   "cell_type": "code",
   "execution_count": 11,
   "metadata": {},
   "outputs": [
    {
     "data": {
      "text/plain": [
       "1024"
      ]
     },
     "execution_count": 11,
     "metadata": {},
     "output_type": "execute_result"
    }
   ],
   "source": [
    "64*16"
   ]
  },
  {
   "cell_type": "code",
   "execution_count": 8,
   "metadata": {},
   "outputs": [
    {
     "data": {
      "text/plain": [
       "16.0"
      ]
     },
     "execution_count": 8,
     "metadata": {},
     "output_type": "execute_result"
    }
   ],
   "source": [
    "reshape_value = 1024/64\n",
    "scale_value = 64"
   ]
  },
  {
   "cell_type": "code",
   "execution_count": 14,
   "metadata": {},
   "outputs": [],
   "source": [
    "a= np.zeros((16,16))"
   ]
  },
  {
   "cell_type": "code",
   "execution_count": 15,
   "metadata": {},
   "outputs": [],
   "source": [
    "a[5][5] = 1"
   ]
  },
  {
   "cell_type": "code",
   "execution_count": 19,
   "metadata": {},
   "outputs": [
    {
     "data": {
      "text/plain": [
       "4096"
      ]
     },
     "execution_count": 19,
     "metadata": {},
     "output_type": "execute_result"
    }
   ],
   "source": [
    "64*64"
   ]
  },
  {
   "cell_type": "code",
   "execution_count": null,
   "metadata": {},
   "outputs": [],
   "source": [
    "import time"
   ]
  },
  {
   "cell_type": "code",
   "execution_count": 22,
   "metadata": {},
   "outputs": [
    {
     "name": "stdout",
     "output_type": "stream",
     "text": [
      "0.003224611282348633\n"
     ]
    }
   ],
   "source": [
    "t1 = time.time()\n",
    "a.repeat(64,0).repeat(64,1).shape\n",
    "t2 = time.time()\n",
    "print(t2-t1)"
   ]
  },
  {
   "cell_type": "code",
   "execution_count": 2,
   "metadata": {
    "scrolled": true
   },
   "outputs": [
    {
     "ename": "IndentationError",
     "evalue": "unexpected indent (<ipython-input-2-52f74e794710>, line 13)",
     "output_type": "error",
     "traceback": [
      "\u001b[0;36m  File \u001b[0;32m\"<ipython-input-2-52f74e794710>\"\u001b[0;36m, line \u001b[0;32m13\u001b[0m\n\u001b[0;31m    p = patches[patch_index]\u001b[0m\n\u001b[0m    ^\u001b[0m\n\u001b[0;31mIndentationError\u001b[0m\u001b[0;31m:\u001b[0m unexpected indent\n"
     ]
    }
   ],
   "source": [
    "all_patches = []\n",
    "\n",
    "for image_annotation in batchgen().datasets['training'].image_annotations:\n",
    "    ratio = image_annotation.get_ratio(spacing)\n",
    "    xs = np.array(range(0, tile_size, patch_shape[0]))\n",
    "    ys = np.array(range(0, tile_size, patch_shape[1]))\n",
    "    \n",
    "    for annotation in tqdm(image_annotation.annotations):\n",
    "        batch = batchgen.batch('training')\n",
    "        patch = batch[0][0][0][0]\n",
    "        patches = blockshaped(patch, patch_shape[0], patch_shape[1])\n",
    "        patch_index = 0\n",
    "                p = patches[patch_index]\n",
    "                x_start = int(x*ratio) + (annotation.center[0] - int(tile_size*ratio) // 2)\n",
    "                x_end = x_start + int(block_shape*ratio)\n",
    "                y_start = int(y*ratio) + (annotation.center[1]  - int(tile_size*ratio) // 2)\n",
    "                y_end = y_start + int(block_shape*ratio)\n",
    "                patch_index += 1\n"
   ]
  },
  {
   "cell_type": "code",
   "execution_count": null,
   "metadata": {},
   "outputs": [],
   "source": [
    "plt.imshow(patches[129])\n",
    "plt.show()"
   ]
  },
  {
   "cell_type": "code",
   "execution_count": null,
   "metadata": {},
   "outputs": [],
   "source": []
  },
  {
   "cell_type": "code",
   "execution_count": null,
   "metadata": {},
   "outputs": [],
   "source": []
  },
  {
   "cell_type": "code",
   "execution_count": null,
   "metadata": {},
   "outputs": [],
   "source": [
    "range(-patch_shape[0]//2, patch_shape[0]//2, 64)"
   ]
  },
  {
   "cell_type": "code",
   "execution_count": 2,
   "metadata": {},
   "outputs": [],
   "source": [
    "import numpy as np\n",
    "from matplotlib import pyplot as plt "
   ]
  },
  {
   "cell_type": "code",
   "execution_count": 62,
   "metadata": {},
   "outputs": [],
   "source": [
    "support_set = np.load('/home/mart/Radboudumc/data/lymphocytes/1079_CD3_artifact_support.npy')"
   ]
  },
  {
   "cell_type": "code",
   "execution_count": 63,
   "metadata": {},
   "outputs": [
    {
     "data": {
      "text/plain": [
       "(1, 64, 64, 3)"
      ]
     },
     "execution_count": 63,
     "metadata": {},
     "output_type": "execute_result"
    }
   ],
   "source": [
    "support_set.shape"
   ]
  },
  {
   "cell_type": "code",
   "execution_count": 64,
   "metadata": {},
   "outputs": [
    {
     "data": {
      "image/png": "[encoded data removed]",
      "text/plain": [
       "<Figure size 432x288 with 1 Axes>"
      ]
     },
     "metadata": {
      "needs_background": "light"
     },
     "output_type": "display_data"
    }
   ],
   "source": [
    "plt.imshow(support_set[0])\n",
    "plt.show()"
   ]
  },
  {
   "cell_type": "code",
   "execution_count": 34,
   "metadata": {},
   "outputs": [],
   "source": [
    "a = np.zeros(16)"
   ]
  },
  {
   "cell_type": "code",
   "execution_count": 35,
   "metadata": {},
   "outputs": [],
   "source": [
    "a[5] =1"
   ]
  },
  {
   "cell_type": "code",
   "execution_count": 36,
   "metadata": {},
   "outputs": [],
   "source": [
    "b= a"
   ]
  },
  {
   "cell_type": "code",
   "execution_count": 37,
   "metadata": {},
   "outputs": [
    {
     "data": {
      "text/plain": [
       "(16,)"
      ]
     },
     "execution_count": 37,
     "metadata": {},
     "output_type": "execute_result"
    }
   ],
   "source": [
    "b.shape"
   ]
  },
  {
   "cell_type": "code",
   "execution_count": 39,
   "metadata": {},
   "outputs": [],
   "source": [
    "b = np.kron(b, np.ones((4)))"
   ]
  },
  {
   "cell_type": "code",
   "execution_count": 42,
   "metadata": {},
   "outputs": [
    {
     "data": {
      "text/plain": [
       "array([[0., 0., 0., 0., 0., 0., 0., 0.],\n",
       "       [0., 0., 0., 0., 0., 0., 0., 0.],\n",
       "       [0., 0., 0., 0., 1., 1., 1., 1.],\n",
       "       [0., 0., 0., 0., 0., 0., 0., 0.],\n",
       "       [0., 0., 0., 0., 0., 0., 0., 0.],\n",
       "       [0., 0., 0., 0., 0., 0., 0., 0.],\n",
       "       [0., 0., 0., 0., 0., 0., 0., 0.],\n",
       "       [0., 0., 0., 0., 0., 0., 0., 0.]])"
      ]
     },
     "execution_count": 42,
     "metadata": {},
     "output_type": "execute_result"
    }
   ],
   "source": [
    "b.reshape(8,8)"
   ]
  },
  {
   "cell_type": "code",
   "execution_count": 67,
   "metadata": {},
   "outputs": [
    {
     "data": {
      "text/plain": [
       "6.42578125"
      ]
     },
     "execution_count": 67,
     "metadata": {},
     "output_type": "execute_result"
    }
   ],
   "source": [
    "6580/1024\n",
    "# 2967\n"
   ]
  },
  {
   "cell_type": "code",
   "execution_count": 68,
   "metadata": {},
   "outputs": [
    {
     "data": {
      "text/plain": [
       "7167"
      ]
     },
     "execution_count": 68,
     "metadata": {},
     "output_type": "execute_result"
    }
   ],
   "source": [
    "6143+1024"
   ]
  },
  {
   "cell_type": "code",
   "execution_count": 70,
   "metadata": {},
   "outputs": [],
   "source": [
    "from xmlpathology.xmlbatchgenerator.auxiliary import WSIPatchGenerator"
   ]
  },
  {
   "cell_type": "code",
   "execution_count": 3,
   "metadata": {},
   "outputs": [
    {
     "name": "stdout",
     "output_type": "stream",
     "text": [
      "batch generator started (single-core)\n"
     ]
    }
   ],
   "source": [
    "model_path = '/home/mart/Radboudumc/data/4taskencoder/supervsied_enc_2019_4tasks.h5'\n",
    "image_path = '/home/mart/Radboudumc/data/lymphocytes/1079_CD3.mrxs'\n",
    "support_path = '/home/mart/Radboudumc/data/lymphocytes/1079_CD3_artifact_support.npy'\n",
    "mask_path = None\n",
    "# Init batchgenerator\n",
    "data_sources = {'training': [{'image_path': image_path,\n",
    "                           'annotation_path': image_path, \n",
    "                           'mask_path': mask_path}]}\n",
    "\n",
    "batchgen = WSIPatchGenerator(data_sources=data_sources,\n",
    "                             batch_size=1,\n",
    "                             patch_shape=(1024, 1024),\n",
    "                             shift=1024,\n",
    "                             cpus=1,\n",
    "                             spacing=8.0,\n",
    "                             log_path='/home/mart/testwsibatcgen/')\n",
    "batchgen.start()"
   ]
  },
  {
   "cell_type": "code",
   "execution_count": 5,
   "metadata": {},
   "outputs": [],
   "source": [
    "batch = batchgen.batch('training')"
   ]
  },
  {
   "cell_type": "code",
   "execution_count": 6,
   "metadata": {},
   "outputs": [],
   "source": [
    "patches, masks, weights = batch"
   ]
  },
  {
   "cell_type": "code",
   "execution_count": 7,
   "metadata": {},
   "outputs": [
    {
     "data": {
      "image/png": "[encoded data removed]",
      "text/plain": [
       "<Figure size 432x288 with 1 Axes>"
      ]
     },
     "metadata": {
      "needs_background": "light"
     },
     "output_type": "display_data"
    }
   ],
   "source": [
    "plt.imshow(patches[0][0][0])\n",
    "plt.show()"
   ]
  },
  {
   "cell_type": "code",
   "execution_count": 6,
   "metadata": {},
   "outputs": [
    {
     "data": {
      "image/png": "[encoded data removed]",
      "text/plain": [
       "<Figure size 432x288 with 1 Axes>"
      ]
     },
     "metadata": {
      "needs_background": "light"
     },
     "output_type": "display_data"
    }
   ],
   "source": [
    "plt.imshow(patches[0][0][0])\n",
    "plt.show()"
   ]
  },
  {
   "cell_type": "code",
   "execution_count": 31,
   "metadata": {},
   "outputs": [],
   "source": [
    "np.save('/home/mart/fsdtest/exactsupport', np.array([patches[0][0][0][:64,:64,:]]))"
   ]
  },
  {
   "cell_type": "code",
   "execution_count": 14,
   "metadata": {},
   "outputs": [
    {
     "data": {
      "text/plain": [
       "(1, 1024, 1024, 3)"
      ]
     },
     "execution_count": 14,
     "metadata": {},
     "output_type": "execute_result"
    }
   ],
   "source": [
    "patches[:][0][0].shape"
   ]
  },
  {
   "cell_type": "code",
   "execution_count": 7,
   "metadata": {},
   "outputs": [],
   "source": [
    "batchgen.stop()"
   ]
  },
  {
   "cell_type": "code",
   "execution_count": 22,
   "metadata": {},
   "outputs": [
    {
     "data": {
      "text/plain": [
       "(1, 1024, 1024, 3)"
      ]
     },
     "execution_count": 22,
     "metadata": {},
     "output_type": "execute_result"
    }
   ],
   "source": [
    "patches[:][0][0][:64][:64][:].shape"
   ]
  },
  {
   "cell_type": "code",
   "execution_count": 30,
   "metadata": {},
   "outputs": [
    {
     "data": {
      "text/plain": [
       "(1, 64, 64, 3)"
      ]
     },
     "execution_count": 30,
     "metadata": {},
     "output_type": "execute_result"
    }
   ],
   "source": [
    "np.array([patches[0][0][0][:64,:64,:]]).shape"
   ]
  },
  {
   "cell_type": "code",
   "execution_count": 3,
   "metadata": {},
   "outputs": [
    {
     "data": {
      "text/plain": [
       "(5120.0, 12288.0, 6144.0, 13312.0)"
      ]
     },
     "execution_count": 3,
     "metadata": {},
     "output_type": "execute_result"
    }
   ],
   "source": [
    "batchgen().datasets['training'].image_annotations[0].annotations[-1].bounds"
   ]
  },
  {
   "cell_type": "code",
   "execution_count": 4,
   "metadata": {},
   "outputs": [
    {
     "data": {
      "text/plain": [
       "(2048.0, 6144.0, 3072.0, 7168.0)"
      ]
     },
     "execution_count": 4,
     "metadata": {},
     "output_type": "execute_result"
    }
   ],
   "source": [
    "batchgen().datasets['training'].image_annotations[0].annotations[-1].bounds"
   ]
  },
  {
   "cell_type": "code",
   "execution_count": null,
   "metadata": {},
   "outputs": [],
   "source": []
  }
 ],
 "metadata": {
  "kernelspec": {
   "display_name": "Python 3",
   "language": "python",
   "name": "python3"
  },
  "language_info": {
   "codemirror_mode": {
    "name": "ipython",
    "version": 3
   },
   "file_extension": ".py",
   "mimetype": "text/x-python",
   "name": "python",
   "nbconvert_exporter": "python",
   "pygments_lexer": "ipython3",
   "version": "3.7.4"
  }
 },
 "nbformat": 4,
 "nbformat_minor": 4
}
