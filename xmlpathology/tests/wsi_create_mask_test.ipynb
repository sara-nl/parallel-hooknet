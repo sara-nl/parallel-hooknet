{
 "cells": [
  {
   "cell_type": "code",
   "execution_count": 6,
   "metadata": {},
   "outputs": [
    {
     "ename": "ImportError",
     "evalue": "cannot import name 'write_masks_from_dataset' from 'xmlpathology.xmlbatchgenerator.utils.utils' (/home/mart/Radboudumc/code/libs/xml-pathology/xmlpathology/xmlbatchgenerator/utils/utils.py)",
     "output_type": "error",
     "traceback": [
      "\u001b[0;31m---------------------------------------------------------------------------\u001b[0m",
      "\u001b[0;31mImportError\u001b[0m                               Traceback (most recent call last)",
      "\u001b[0;32m<ipython-input-6-977d19f25629>\u001b[0m in \u001b[0;36m<module>\u001b[0;34m\u001b[0m\n\u001b[1;32m     11\u001b[0m \u001b[0;32mfrom\u001b[0m \u001b[0mxmlpathology\u001b[0m\u001b[0;34m.\u001b[0m\u001b[0mxio\u001b[0m\u001b[0;34m.\u001b[0m\u001b[0mimageannotation\u001b[0m \u001b[0;32mimport\u001b[0m \u001b[0mImageAnnotation\u001b[0m\u001b[0;34m\u001b[0m\u001b[0;34m\u001b[0m\u001b[0m\n\u001b[1;32m     12\u001b[0m \u001b[0;32mfrom\u001b[0m \u001b[0mxmlpathology\u001b[0m\u001b[0;34m.\u001b[0m\u001b[0mxio\u001b[0m\u001b[0;34m.\u001b[0m\u001b[0mimagereader\u001b[0m \u001b[0;32mimport\u001b[0m \u001b[0mImageReader\u001b[0m\u001b[0;34m\u001b[0m\u001b[0;34m\u001b[0m\u001b[0m\n\u001b[0;32m---> 13\u001b[0;31m \u001b[0;32mfrom\u001b[0m \u001b[0mxmlpathology\u001b[0m\u001b[0;34m.\u001b[0m\u001b[0mxmlbatchgenerator\u001b[0m\u001b[0;34m.\u001b[0m\u001b[0mutils\u001b[0m\u001b[0;34m.\u001b[0m\u001b[0mutils\u001b[0m \u001b[0;32mimport\u001b[0m \u001b[0mwrite_masks_from_dataset\u001b[0m\u001b[0;34m\u001b[0m\u001b[0;34m\u001b[0m\u001b[0m\n\u001b[0m\u001b[1;32m     14\u001b[0m \u001b[0;32mimport\u001b[0m \u001b[0mnumpy\u001b[0m \u001b[0;32mas\u001b[0m \u001b[0mnp\u001b[0m\u001b[0;34m\u001b[0m\u001b[0;34m\u001b[0m\u001b[0m\n\u001b[1;32m     15\u001b[0m \u001b[0;32mimport\u001b[0m \u001b[0mcv2\u001b[0m\u001b[0;34m\u001b[0m\u001b[0;34m\u001b[0m\u001b[0m\n",
      "\u001b[0;31mImportError\u001b[0m: cannot import name 'write_masks_from_dataset' from 'xmlpathology.xmlbatchgenerator.utils.utils' (/home/mart/Radboudumc/code/libs/xml-pathology/xmlpathology/xmlbatchgenerator/utils/utils.py)"
     ]
    }
   ],
   "source": [
    "import yaml\n",
    "from pprint import pprint\n",
    "from xmlpathology.xio.annotationparser import WSIAnnotationParser, AnnotationParserLoader\n",
    "from xmlpathology.xio.dataset import DataSet, DataSetLoader\n",
    "# from xmlpathology.xmlbatchgenerator.core.controllers import SampleController, IndexControllerLoader, OrderedIndexController\n",
    "from xmlpathology.xmlbatchgenerator.core.samplers import BatchSamplerLoader, BatchSampler, PointSamplerLoader, CenterPointSampler, SamplerLoader, WSISampler, SegmentationLabelSampler\n",
    "from matplotlib import pyplot as plt\n",
    "from xmlpathology.xio.imagereader import ImageReader\n",
    "# from xmlpathology.xmlbatchgenerator.core.generators import XmlBatchGenerator\n",
    "from tqdm.notebook import tqdm\n",
    "from xmlpathology.xio.imageannotation import ImageAnnotation\n",
    "from xmlpathology.xio.imagereader import ImageReader\n",
    "from xmlpathology.xmlbatchgenerator.utils.utils import write_masks_from_dataset\n",
    "import numpy as np\n",
    "import cv2"
   ]
  },
  {
   "cell_type": "code",
   "execution_count": 53,
   "metadata": {},
   "outputs": [
    {
     "name": "stdout",
     "output_type": "stream",
     "text": [
      "data sources:\n",
      "{'training': [{'annotation_path': '/home/mart/Radboudumc/data/lymphocytes/1079_CD3_extended_fixed.xml',\n",
      "               'image_path': '/home/mart/Radboudumc/data/lymphocytes/1079_CD3.mrxs'}]}\n"
     ]
    }
   ],
   "source": [
    "#Data setup\n",
    "data_sources_path = '/home/mart/Radboudumc/data/lymphocytes/lymphocytes.yml'\n",
    "with open(data_sources_path) as f:\n",
    "    data_sources = yaml.load(f, yaml.FullLoader)\n",
    "print('data sources:')\n",
    "pprint(data_sources)\n",
    "label_map={'polygon':1, 'dot':2}"
   ]
  },
  {
   "cell_type": "code",
   "execution_count": 54,
   "metadata": {},
   "outputs": [],
   "source": [
    "dataset = DataSet('training',  data_sources['training'], annotation_types=['polygon'], label_map=label_map)"
   ]
  },
  {
   "cell_type": "code",
   "execution_count": 55,
   "metadata": {},
   "outputs": [
    {
     "name": "stdout",
     "output_type": "stream",
     "text": [
      "writing...\n",
      "closing...\n"
     ]
    }
   ],
   "source": [
    "write_masks_from_dataset(dataset)"
   ]
  },
  {
   "cell_type": "code",
   "execution_count": 7,
   "metadata": {},
   "outputs": [],
   "source": [
    "mask = ImageReader('/home/mart/Radboudumc/data/lymphocytes/1079_CD3_gt_mask.tif', 0.2)"
   ]
  },
  {
   "cell_type": "code",
   "execution_count": 17,
   "metadata": {},
   "outputs": [],
   "source": [
    "maskcontent = np.array(mask.content(8.0)).squeeze()"
   ]
  },
  {
   "cell_type": "code",
   "execution_count": 18,
   "metadata": {},
   "outputs": [],
   "source": [
    "contours, h = cv2.findContours(maskcontent, mode=cv2.RETR_EXTERNAL, method=cv2.CHAIN_APPROX_SIMPLE)"
   ]
  },
  {
   "cell_type": "code",
   "execution_count": 50,
   "metadata": {},
   "outputs": [
    {
     "data": {
      "text/plain": [
       "array([[[2248, 4786]],\n",
       "\n",
       "       [[2248, 4803]],\n",
       "\n",
       "       [[2267, 4803]],\n",
       "\n",
       "       [[2267, 4789]],\n",
       "\n",
       "       [[2268, 4788]],\n",
       "\n",
       "       [[2268, 4786]]], dtype=int32)"
      ]
     },
     "execution_count": 50,
     "metadata": {},
     "output_type": "execute_result"
    }
   ],
   "source": [
    "contours[9]"
   ]
  },
  {
   "cell_type": "code",
   "execution_count": 51,
   "metadata": {},
   "outputs": [
    {
     "name": "stdout",
     "output_type": "stream",
     "text": [
      "[[2247. 4785.]\n",
      " [2247. 4803.]\n",
      " [2267. 4803.]\n",
      " [2268. 4785.]\n",
      " [2247. 4785.]]\n"
     ]
    }
   ],
   "source": [
    "print(dataset.image_annotations[0].annotations[0].coordinates()//32)"
   ]
  },
  {
   "cell_type": "code",
   "execution_count": null,
   "metadata": {},
   "outputs": [],
   "source": []
  }
 ],
 "metadata": {
  "kernelspec": {
   "display_name": "Python 3",
   "language": "python",
   "name": "python3"
  },
  "language_info": {
   "codemirror_mode": {
    "name": "ipython",
    "version": 3
   },
   "file_extension": ".py",
   "mimetype": "text/x-python",
   "name": "python",
   "nbconvert_exporter": "python",
   "pygments_lexer": "ipython3",
   "version": "3.7.4"
  }
 },
 "nbformat": 4,
 "nbformat_minor": 4
}
