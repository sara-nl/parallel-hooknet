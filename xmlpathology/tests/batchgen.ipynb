{
 "cells": [
  {
   "cell_type": "code",
   "execution_count": 1,
   "metadata": {},
   "outputs": [],
   "source": [
    "# imports \n",
    "from pprint import pprint\n",
    "from matplotlib import pyplot as plt\n",
    "import yaml\n",
    "import os\n",
    "from xmlpathology.argconfigparser import argconfigparser\n",
    "\n",
    "from xmlpathology.xmlbatchgenerator.core.generators import XmlBatchGeneratorVanilla\n",
    "from xmlpathology.io.dataset import DataSet, DataSetLoader\n",
    "from xmlpathology.io.annotationparser import AnnotationParserLoader, AsapAnnotationParser\n",
    "from xmlpathology.io.imagereader import ImageReader\n",
    "from xmlpathology.xmlbatchgenerator.callbacks.samplecallbacks.fityolo import FitYolo\n",
    "import time\n",
    "import numpy as np\n",
    "import glob\n",
    "# config = argconfigparser.parse('/home/mart/radboudumc/lib/hooknet/hooknet/config/parameters.yml', notebook=True)"
   ]
  },
  {
   "cell_type": "code",
   "execution_count": null,
   "metadata": {},
   "outputs": [],
   "source": []
  },
  {
   "cell_type": "code",
   "execution_count": null,
   "metadata": {},
   "outputs": [],
   "source": [
    "tif_list = glob.glob('/home/user/data_lvl1/*.tif')\n",
    "xml_list = glob.glob('/home/user/level1/*.xml')"
   ]
  },
  {
   "cell_type": "code",
   "execution_count": null,
   "metadata": {},
   "outputs": [],
   "source": [
    "tif_list = sorted(tif_list)\n",
    "xml_list = sorted(xml_list)"
   ]
  },
  {
   "cell_type": "code",
   "execution_count": null,
   "metadata": {},
   "outputs": [],
   "source": [
    "len(tif_list), len(xml_list)"
   ]
  },
  {
   "cell_type": "code",
   "execution_count": null,
   "metadata": {},
   "outputs": [],
   "source": [
    "tif_set = set(tif_list)\n",
    "xml_set = set(xml_list)"
   ]
  },
  {
   "cell_type": "code",
   "execution_count": null,
   "metadata": {},
   "outputs": [],
   "source": [
    "data_dict = {'training': [], 'validation': []}\n",
    "for xml in xml_list:\n",
    "    name = xml.split('/')[-1].split('.')[0]\n",
    "    for tif in tif_list:\n",
    "        if name in tif:\n",
    "            item = {'image_path': tif, 'annotation_path': xml}\n",
    "            mode = 'training' if np.random.random() > 0.3 else 'validation'\n",
    "            data_dict[mode].append(item)"
   ]
  },
  {
   "cell_type": "code",
   "execution_count": null,
   "metadata": {},
   "outputs": [],
   "source": [
    "# data_dict"
   ]
  },
  {
   "cell_type": "code",
   "execution_count": null,
   "metadata": {},
   "outputs": [],
   "source": [
    "with open('/home/user/data.yml', 'w') as outfile:\n",
    "    yaml.dump(data_dict, outfile, default_flow_style=False)"
   ]
  },
  {
   "cell_type": "code",
   "execution_count": 5,
   "metadata": {},
   "outputs": [
    {
     "ename": "NameError",
     "evalue": "name 'label_map' is not defined",
     "output_type": "error",
     "traceback": [
      "\u001b[0;31m---------------------------------------------------------------------------\u001b[0m",
      "\u001b[0;31mNameError\u001b[0m                                 Traceback (most recent call last)",
      "\u001b[0;32m<ipython-input-5-2e2421485d12>\u001b[0m in \u001b[0;36m<module>\u001b[0;34m\u001b[0m\n\u001b[0;32m----> 1\u001b[0;31m \u001b[0mfit_yolo_callback\u001b[0m \u001b[0;34m=\u001b[0m \u001b[0mFitYolo\u001b[0m\u001b[0;34m(\u001b[0m\u001b[0mlabel_map\u001b[0m\u001b[0;34m,\u001b[0m \u001b[0;34m(\u001b[0m\u001b[0;36m128\u001b[0m\u001b[0;34m,\u001b[0m\u001b[0;36m128\u001b[0m\u001b[0;34m,\u001b[0m\u001b[0;36m3\u001b[0m\u001b[0;34m)\u001b[0m\u001b[0;34m,\u001b[0m \u001b[0;34m(\u001b[0m\u001b[0;36m16\u001b[0m\u001b[0;34m,\u001b[0m\u001b[0;36m16\u001b[0m\u001b[0;34m)\u001b[0m\u001b[0;34m,\u001b[0m \u001b[0;36m1\u001b[0m\u001b[0;34m,\u001b[0m \u001b[0;36m24\u001b[0m\u001b[0;34m)\u001b[0m\u001b[0;34m\u001b[0m\u001b[0;34m\u001b[0m\u001b[0m\n\u001b[0m",
      "\u001b[0;31mNameError\u001b[0m: name 'label_map' is not defined"
     ]
    }
   ],
   "source": []
  },
  {
   "cell_type": "code",
   "execution_count": 2,
   "metadata": {},
   "outputs": [
    {
     "name": "stdout",
     "output_type": "stream",
     "text": [
      "data sources:\n",
      "{'training': [{'annotation_path': '/home/mart/Radboudumc/data/lymphocytes/1079_CD3.xml',\n",
      "               'image_path': '/home/mart/Radboudumc/data/lymphocytes/1079_CD3.tif'}]}\n"
     ]
    }
   ],
   "source": [
    "\"\"\" \n",
    "Data setup\n",
    "\"\"\"\n",
    "\n",
    "# get the data from datasource.yml:\n",
    "\n",
    "# ---\n",
    "# training:\n",
    "#   -\n",
    "#     annotation_path: /home/mart/radboudumc/data/xmls/level1/T10-00485-I-19-1-gr3.xml\n",
    "#     image_path: /home/mart/radboudumc/data/images/level1/T10-00485-I-19-1-gr3.tif\n",
    "# \n",
    "\n",
    "data_sources_path = '/home/mart/Radboudumc/data/lymphocytes/lymphocytes.yml'\n",
    "with open(data_sources_path) as f:\n",
    "    data_sources = yaml.load(f, yaml.FullLoader)\n",
    "    \n",
    "print('data sources:')\n",
    "pprint(data_sources)"
   ]
  },
  {
   "cell_type": "code",
   "execution_count": 8,
   "metadata": {},
   "outputs": [],
   "source": [
    "imgreader = ImageReader(data_sources['training'][0]['image_path'], 0.2)"
   ]
  },
  {
   "cell_type": "code",
   "execution_count": 10,
   "metadata": {},
   "outputs": [
    {
     "data": {
      "text/plain": [
       "[(210579, 94968),\n",
       " (105289, 47484),\n",
       " (52644, 23742),\n",
       " (26322, 11871),\n",
       " (13161, 5935),\n",
       " (6580, 2967),\n",
       " (3290, 1483),\n",
       " (1645, 741),\n",
       " (822, 370)]"
      ]
     },
     "execution_count": 10,
     "metadata": {},
     "output_type": "execute_result"
    }
   ],
   "source": []
  },
  {
   "cell_type": "code",
   "execution_count": 3,
   "metadata": {},
   "outputs": [
    {
     "name": "stdout",
     "output_type": "stream",
     "text": [
      "label map:\n",
      "{'dot': 1, 'polygon': 0}\n"
     ]
    }
   ],
   "source": [
    "\"\"\"\n",
    "Label map\n",
    "\"\"\"\n",
    "\n",
    "# # set the label_map, which maps labels that are in the annotation file to label_values:\n",
    "# label_map = \\\n",
    "# {\n",
    "#     'dcis': 1,\n",
    "#     'idc': 2,\n",
    "#     'ilc': 3,\n",
    "#     'fatty tissue': 4,\n",
    "#     'stroma': 5,\n",
    "#     'erythrocytes': 6,\n",
    "#     'non malignant epithelium': 7,\n",
    "#     'inflammatory cells': 8,\n",
    "#     'skin/nipple': 9\n",
    "# }\n",
    "\n",
    "label_map = \\\n",
    "{\n",
    "    'polygon': 0,\n",
    "    'dot': 1,\n",
    "}\n",
    "\n",
    "inverse_label_map = {value:key for key, value in label_map.items()}\n",
    "\n",
    "print('label map:')\n",
    "pprint(label_map)"
   ]
  },
  {
   "cell_type": "code",
   "execution_count": 4,
   "metadata": {},
   "outputs": [],
   "source": [
    "fit_yolo_callback = FitYolo(label_map, (128,128,3), (16,16), 1, 24)"
   ]
  },
  {
   "cell_type": "code",
   "execution_count": 5,
   "metadata": {},
   "outputs": [
    {
     "name": "stdout",
     "output_type": "stream",
     "text": [
      "'_set_overlapping_annotations'  31.62 ms\n",
      "'_open_image_annotations'  45.57 ms\n",
      "'_init_samples'  0.21 ms\n"
     ]
    },
    {
     "ename": "TypeError",
     "evalue": "unsupported operand type(s) for -: 'NoneType' and 'float'",
     "output_type": "error",
     "traceback": [
      "\u001b[0;31m---------------------------------------------------------------------------\u001b[0m",
      "\u001b[0;31mTypeError\u001b[0m                                 Traceback (most recent call last)",
      "\u001b[0;32m<ipython-input-5-3b001f7fca07>\u001b[0m in \u001b[0;36m<module>\u001b[0;34m\u001b[0m\n\u001b[1;32m     12\u001b[0m                                           \u001b[0mstrict_point_sampling\u001b[0m\u001b[0;34m=\u001b[0m\u001b[0;32mTrue\u001b[0m\u001b[0;34m,\u001b[0m\u001b[0;34m\u001b[0m\u001b[0;34m\u001b[0m\u001b[0m\n\u001b[1;32m     13\u001b[0m                                           \u001b[0msample_callbacks\u001b[0m\u001b[0;34m=\u001b[0m\u001b[0;34m[\u001b[0m\u001b[0mfit_yolo_callback\u001b[0m\u001b[0;34m]\u001b[0m\u001b[0;34m,\u001b[0m\u001b[0;34m\u001b[0m\u001b[0;34m\u001b[0m\u001b[0m\n\u001b[0;32m---> 14\u001b[0;31m                                           log_path='/home/mart/logfiles/')\n\u001b[0m\u001b[1;32m     15\u001b[0m \u001b[0;34m\u001b[0m\u001b[0m\n\u001b[1;32m     16\u001b[0m \u001b[0mbatchgenerator\u001b[0m\u001b[0;34m.\u001b[0m\u001b[0mstart\u001b[0m\u001b[0;34m(\u001b[0m\u001b[0;34m)\u001b[0m\u001b[0;34m\u001b[0m\u001b[0;34m\u001b[0m\u001b[0m\n",
      "\u001b[0;32m~/Radboudumc/code/libs/xml-pathology/xmlpathology/xmlbatchgenerator/core/generators.py\u001b[0m in \u001b[0;36m__init__\u001b[0;34m(self, data_sources, label_map, batch_size, input_shape, spacing, task, strict_point_sampling, seed, cpus, normalizer, open_images_ahead, batch_callbacks, sample_callbacks, log_path)\u001b[0m\n\u001b[1;32m    192\u001b[0m                          \u001b[0mbatch_callbacks\u001b[0m\u001b[0;34m=\u001b[0m\u001b[0mbatch_callbacks\u001b[0m\u001b[0;34m,\u001b[0m\u001b[0;34m\u001b[0m\u001b[0;34m\u001b[0m\u001b[0m\n\u001b[1;32m    193\u001b[0m                          \u001b[0msample_callbacks\u001b[0m\u001b[0;34m=\u001b[0m\u001b[0msample_callbacks\u001b[0m\u001b[0;34m,\u001b[0m\u001b[0;34m\u001b[0m\u001b[0;34m\u001b[0m\u001b[0m\n\u001b[0;32m--> 194\u001b[0;31m                          log_path=log_path)\n\u001b[0m\u001b[1;32m    195\u001b[0m \u001b[0;34m\u001b[0m\u001b[0m\n\u001b[1;32m    196\u001b[0m     \u001b[0;32mdef\u001b[0m \u001b[0mbatch\u001b[0m\u001b[0;34m(\u001b[0m\u001b[0mself\u001b[0m\u001b[0;34m,\u001b[0m \u001b[0mmode\u001b[0m\u001b[0;34m)\u001b[0m\u001b[0;34m:\u001b[0m\u001b[0;34m\u001b[0m\u001b[0;34m\u001b[0m\u001b[0m\n",
      "\u001b[0;32m~/Radboudumc/code/libs/xml-pathology/xmlpathology/xmlbatchgenerator/core/generators.py\u001b[0m in \u001b[0;36m__init__\u001b[0;34m(self, data_sources, label_map, batch_size, data_set_loader, annotation_parser_loader, sampler_loader, batch_sampler_loader, label_controller_loader, index_controller_loader, patch_sampler_loader, label_sampler_loader, point_sampler_loader, seed, queue_size, cpus, normalizer, sample_callbacks, batch_callbacks, log_path)\u001b[0m\n\u001b[1;32m     79\u001b[0m                                                 \u001b[0mlabel_map\u001b[0m\u001b[0;34m=\u001b[0m\u001b[0mlabel_map\u001b[0m\u001b[0;34m,\u001b[0m\u001b[0;34m\u001b[0m\u001b[0;34m\u001b[0m\u001b[0m\n\u001b[1;32m     80\u001b[0m                                                 \u001b[0mannotation_parser_loader\u001b[0m\u001b[0;34m=\u001b[0m\u001b[0mannotation_parser_loader\u001b[0m\u001b[0;34m\u001b[0m\u001b[0;34m\u001b[0m\u001b[0m\n\u001b[0;32m---> 81\u001b[0;31m                                                 ) for mode, data_source in data_sources.items()}\n\u001b[0m\u001b[1;32m     82\u001b[0m \u001b[0;34m\u001b[0m\u001b[0m\n\u001b[1;32m     83\u001b[0m         self._batch_manager = managers._get_batch_manager(datasets=self._datasets,\n",
      "\u001b[0;32m~/Radboudumc/code/libs/xml-pathology/xmlpathology/xmlbatchgenerator/core/generators.py\u001b[0m in \u001b[0;36m<dictcomp>\u001b[0;34m(.0)\u001b[0m\n\u001b[1;32m     79\u001b[0m                                                 \u001b[0mlabel_map\u001b[0m\u001b[0;34m=\u001b[0m\u001b[0mlabel_map\u001b[0m\u001b[0;34m,\u001b[0m\u001b[0;34m\u001b[0m\u001b[0;34m\u001b[0m\u001b[0m\n\u001b[1;32m     80\u001b[0m                                                 \u001b[0mannotation_parser_loader\u001b[0m\u001b[0;34m=\u001b[0m\u001b[0mannotation_parser_loader\u001b[0m\u001b[0;34m\u001b[0m\u001b[0;34m\u001b[0m\u001b[0m\n\u001b[0;32m---> 81\u001b[0;31m                                                 ) for mode, data_source in data_sources.items()}\n\u001b[0m\u001b[1;32m     82\u001b[0m \u001b[0;34m\u001b[0m\u001b[0m\n\u001b[1;32m     83\u001b[0m         self._batch_manager = managers._get_batch_manager(datasets=self._datasets,\n",
      "\u001b[0;32m~/Radboudumc/code/libs/xml-pathology/xmlpathology/io/dataset.py\u001b[0m in \u001b[0;36m__call__\u001b[0;34m(self, mode, data_source, label_map, annotation_parser_loader)\u001b[0m\n\u001b[1;32m     19\u001b[0m                            \u001b[0mlabel_map\u001b[0m\u001b[0;34m=\u001b[0m\u001b[0mlabel_map\u001b[0m\u001b[0;34m,\u001b[0m\u001b[0;34m\u001b[0m\u001b[0;34m\u001b[0m\u001b[0m\n\u001b[1;32m     20\u001b[0m                            \u001b[0mannotation_parser_loader\u001b[0m\u001b[0;34m=\u001b[0m\u001b[0mannotation_parser_loader\u001b[0m\u001b[0;34m,\u001b[0m\u001b[0;34m\u001b[0m\u001b[0;34m\u001b[0m\u001b[0m\n\u001b[0;32m---> 21\u001b[0;31m                            **self._kwargs)\n\u001b[0m\u001b[1;32m     22\u001b[0m \u001b[0;34m\u001b[0m\u001b[0m\n\u001b[1;32m     23\u001b[0m \u001b[0;32mclass\u001b[0m \u001b[0mDataSet\u001b[0m\u001b[0;34m:\u001b[0m\u001b[0;34m\u001b[0m\u001b[0;34m\u001b[0m\u001b[0m\n",
      "\u001b[0;32m~/Radboudumc/code/libs/xml-pathology/xmlpathology/io/dataset.py\u001b[0m in \u001b[0;36m__init__\u001b[0;34m(self, mode, data_source, label_map, annotation_parser_loader, open_images_ahead)\u001b[0m\n\u001b[1;32m     40\u001b[0m \u001b[0;34m\u001b[0m\u001b[0m\n\u001b[1;32m     41\u001b[0m         \u001b[0mself\u001b[0m\u001b[0;34m.\u001b[0m\u001b[0m_samples\u001b[0m \u001b[0;34m=\u001b[0m \u001b[0mself\u001b[0m\u001b[0;34m.\u001b[0m\u001b[0m_init_samples\u001b[0m\u001b[0;34m(\u001b[0m\u001b[0;34m)\u001b[0m\u001b[0;34m\u001b[0m\u001b[0;34m\u001b[0m\u001b[0m\n\u001b[0;32m---> 42\u001b[0;31m         \u001b[0mself\u001b[0m\u001b[0;34m.\u001b[0m\u001b[0m_ratios\u001b[0m \u001b[0;34m=\u001b[0m \u001b[0mself\u001b[0m\u001b[0;34m.\u001b[0m\u001b[0m_set_ratios\u001b[0m\u001b[0;34m(\u001b[0m\u001b[0;34m)\u001b[0m\u001b[0;34m\u001b[0m\u001b[0;34m\u001b[0m\u001b[0m\n\u001b[0m\u001b[1;32m     43\u001b[0m \u001b[0;34m\u001b[0m\u001b[0m\n\u001b[1;32m     44\u001b[0m     \u001b[0;34m@\u001b[0m\u001b[0mproperty\u001b[0m\u001b[0;34m\u001b[0m\u001b[0;34m\u001b[0m\u001b[0m\n",
      "\u001b[0;32m~/Radboudumc/code/libs/xml-pathology/xmlpathology/io/dataset.py\u001b[0m in \u001b[0;36m_set_ratios\u001b[0;34m(self)\u001b[0m\n\u001b[1;32m    120\u001b[0m         \u001b[0;32mfor\u001b[0m \u001b[0mdata_source_id\u001b[0m\u001b[0;34m,\u001b[0m \u001b[0mdata_source\u001b[0m \u001b[0;32min\u001b[0m \u001b[0mself\u001b[0m\u001b[0;34m.\u001b[0m\u001b[0m_data_source_map\u001b[0m\u001b[0;34m.\u001b[0m\u001b[0mitems\u001b[0m\u001b[0;34m(\u001b[0m\u001b[0;34m)\u001b[0m\u001b[0;34m:\u001b[0m\u001b[0;34m\u001b[0m\u001b[0;34m\u001b[0m\u001b[0m\n\u001b[1;32m    121\u001b[0m             \u001b[0mimage\u001b[0m \u001b[0;34m=\u001b[0m \u001b[0mImageReader\u001b[0m\u001b[0;34m(\u001b[0m\u001b[0mdata_source\u001b[0m\u001b[0;34m[\u001b[0m\u001b[0;34m'image_path'\u001b[0m\u001b[0;34m]\u001b[0m\u001b[0;34m,\u001b[0m \u001b[0;36m0.2\u001b[0m\u001b[0;34m)\u001b[0m\u001b[0;34m\u001b[0m\u001b[0;34m\u001b[0m\u001b[0m\n\u001b[0;32m--> 122\u001b[0;31m             \u001b[0mrounded_wsi_spacings\u001b[0m \u001b[0;34m=\u001b[0m \u001b[0;34m[\u001b[0m\u001b[0mpossible_spacings\u001b[0m\u001b[0;34m[\u001b[0m\u001b[0mnp\u001b[0m\u001b[0;34m.\u001b[0m\u001b[0margmin\u001b[0m\u001b[0;34m(\u001b[0m\u001b[0;34m(\u001b[0m\u001b[0mpixel_spacing\u001b[0m \u001b[0;34m-\u001b[0m \u001b[0mpossible_spacings\u001b[0m\u001b[0;34m)\u001b[0m\u001b[0;34m**\u001b[0m\u001b[0;36m2\u001b[0m\u001b[0;34m)\u001b[0m\u001b[0;34m]\u001b[0m \u001b[0;32mfor\u001b[0m \u001b[0mpixel_spacing\u001b[0m \u001b[0;32min\u001b[0m \u001b[0mimage\u001b[0m\u001b[0;34m.\u001b[0m\u001b[0mspacings\u001b[0m\u001b[0;34m]\u001b[0m\u001b[0;34m\u001b[0m\u001b[0;34m\u001b[0m\u001b[0m\n\u001b[0m\u001b[1;32m    123\u001b[0m             \u001b[0mratios\u001b[0m\u001b[0;34m[\u001b[0m\u001b[0mdata_source_id\u001b[0m\u001b[0;34m]\u001b[0m \u001b[0;34m=\u001b[0m \u001b[0;34m{\u001b[0m\u001b[0mpixel_spacing\u001b[0m\u001b[0;34m:\u001b[0m \u001b[0mimage\u001b[0m\u001b[0;34m.\u001b[0m\u001b[0mdownsamplings\u001b[0m\u001b[0;34m[\u001b[0m\u001b[0mimage\u001b[0m\u001b[0;34m.\u001b[0m\u001b[0mlevel\u001b[0m\u001b[0;34m(\u001b[0m\u001b[0mpixel_spacing\u001b[0m\u001b[0;34m)\u001b[0m\u001b[0;34m]\u001b[0m \u001b[0;32mfor\u001b[0m \u001b[0mpixel_spacing\u001b[0m \u001b[0;32min\u001b[0m \u001b[0mrounded_wsi_spacings\u001b[0m\u001b[0;34m}\u001b[0m\u001b[0;34m\u001b[0m\u001b[0;34m\u001b[0m\u001b[0m\n\u001b[1;32m    124\u001b[0m             \u001b[0mimage\u001b[0m\u001b[0;34m.\u001b[0m\u001b[0mclose\u001b[0m\u001b[0;34m(\u001b[0m\u001b[0;34m)\u001b[0m\u001b[0;34m\u001b[0m\u001b[0;34m\u001b[0m\u001b[0m\n",
      "\u001b[0;32m~/Radboudumc/code/libs/xml-pathology/xmlpathology/io/dataset.py\u001b[0m in \u001b[0;36m<listcomp>\u001b[0;34m(.0)\u001b[0m\n\u001b[1;32m    120\u001b[0m         \u001b[0;32mfor\u001b[0m \u001b[0mdata_source_id\u001b[0m\u001b[0;34m,\u001b[0m \u001b[0mdata_source\u001b[0m \u001b[0;32min\u001b[0m \u001b[0mself\u001b[0m\u001b[0;34m.\u001b[0m\u001b[0m_data_source_map\u001b[0m\u001b[0;34m.\u001b[0m\u001b[0mitems\u001b[0m\u001b[0;34m(\u001b[0m\u001b[0;34m)\u001b[0m\u001b[0;34m:\u001b[0m\u001b[0;34m\u001b[0m\u001b[0;34m\u001b[0m\u001b[0m\n\u001b[1;32m    121\u001b[0m             \u001b[0mimage\u001b[0m \u001b[0;34m=\u001b[0m \u001b[0mImageReader\u001b[0m\u001b[0;34m(\u001b[0m\u001b[0mdata_source\u001b[0m\u001b[0;34m[\u001b[0m\u001b[0;34m'image_path'\u001b[0m\u001b[0;34m]\u001b[0m\u001b[0;34m,\u001b[0m \u001b[0;36m0.2\u001b[0m\u001b[0;34m)\u001b[0m\u001b[0;34m\u001b[0m\u001b[0;34m\u001b[0m\u001b[0m\n\u001b[0;32m--> 122\u001b[0;31m             \u001b[0mrounded_wsi_spacings\u001b[0m \u001b[0;34m=\u001b[0m \u001b[0;34m[\u001b[0m\u001b[0mpossible_spacings\u001b[0m\u001b[0;34m[\u001b[0m\u001b[0mnp\u001b[0m\u001b[0;34m.\u001b[0m\u001b[0margmin\u001b[0m\u001b[0;34m(\u001b[0m\u001b[0;34m(\u001b[0m\u001b[0mpixel_spacing\u001b[0m \u001b[0;34m-\u001b[0m \u001b[0mpossible_spacings\u001b[0m\u001b[0;34m)\u001b[0m\u001b[0;34m**\u001b[0m\u001b[0;36m2\u001b[0m\u001b[0;34m)\u001b[0m\u001b[0;34m]\u001b[0m \u001b[0;32mfor\u001b[0m \u001b[0mpixel_spacing\u001b[0m \u001b[0;32min\u001b[0m \u001b[0mimage\u001b[0m\u001b[0;34m.\u001b[0m\u001b[0mspacings\u001b[0m\u001b[0;34m]\u001b[0m\u001b[0;34m\u001b[0m\u001b[0;34m\u001b[0m\u001b[0m\n\u001b[0m\u001b[1;32m    123\u001b[0m             \u001b[0mratios\u001b[0m\u001b[0;34m[\u001b[0m\u001b[0mdata_source_id\u001b[0m\u001b[0;34m]\u001b[0m \u001b[0;34m=\u001b[0m \u001b[0;34m{\u001b[0m\u001b[0mpixel_spacing\u001b[0m\u001b[0;34m:\u001b[0m \u001b[0mimage\u001b[0m\u001b[0;34m.\u001b[0m\u001b[0mdownsamplings\u001b[0m\u001b[0;34m[\u001b[0m\u001b[0mimage\u001b[0m\u001b[0;34m.\u001b[0m\u001b[0mlevel\u001b[0m\u001b[0;34m(\u001b[0m\u001b[0mpixel_spacing\u001b[0m\u001b[0;34m)\u001b[0m\u001b[0;34m]\u001b[0m \u001b[0;32mfor\u001b[0m \u001b[0mpixel_spacing\u001b[0m \u001b[0;32min\u001b[0m \u001b[0mrounded_wsi_spacings\u001b[0m\u001b[0;34m}\u001b[0m\u001b[0;34m\u001b[0m\u001b[0;34m\u001b[0m\u001b[0m\n\u001b[1;32m    124\u001b[0m             \u001b[0mimage\u001b[0m\u001b[0;34m.\u001b[0m\u001b[0mclose\u001b[0m\u001b[0;34m(\u001b[0m\u001b[0;34m)\u001b[0m\u001b[0;34m\u001b[0m\u001b[0;34m\u001b[0m\u001b[0m\n",
      "\u001b[0;31mTypeError\u001b[0m: unsupported operand type(s) for -: 'NoneType' and 'float'"
     ]
    }
   ],
   "source": [
    "\"\"\"\n",
    "Starting the XmlBatchGeneratorVanilla\n",
    "\"\"\"\n",
    "\n",
    "batchgenerator = XmlBatchGeneratorVanilla(data_sources=data_sources,\n",
    "                                          label_map=label_map,\n",
    "                                          open_images_ahead=False,\n",
    "                                          batch_size=16,\n",
    "                                          input_shape=(128,128,3),\n",
    "                                          cpus=4,\n",
    "                                          spacing=2.0,\n",
    "                                          strict_point_sampling=True,\n",
    "                                          sample_callbacks=[fit_yolo_callback],\n",
    "                                          log_path='/home/mart/logfiles/')\n",
    "\n",
    "batchgenerator.start()"
   ]
  },
  {
   "cell_type": "code",
   "execution_count": 6,
   "metadata": {},
   "outputs": [
    {
     "name": "stdout",
     "output_type": "stream",
     "text": [
      "batch generator stopped\n"
     ]
    }
   ],
   "source": [
    "batchgenerator.stop()"
   ]
  },
  {
   "cell_type": "code",
   "execution_count": 7,
   "metadata": {},
   "outputs": [
    {
     "name": "stdout",
     "output_type": "stream",
     "text": [
      "'_set_overlapping_annotations'  57.39 ms\n",
      "'_open_image_annotations'  91.42 ms\n",
      "'_init_samples'  0.13 ms\n",
      "None\n",
      "batch generator started (single core)\n"
     ]
    }
   ],
   "source": [
    "\"\"\"\n",
    "Starting the XmlBatchGeneratorVanilla\n",
    "\"\"\"\n",
    "\n",
    "batchgenerator = XmlBatchGeneratorVanilla(data_sources=data_sources,\n",
    "                                          label_map=label_map,\n",
    "                                          log_path='/home/mart/logfiles/')\n",
    "batchgenerator.start()"
   ]
  },
  {
   "cell_type": "code",
   "execution_count": 12,
   "metadata": {},
   "outputs": [
    {
     "name": "stdout",
     "output_type": "stream",
     "text": [
      "(16, 1, 1, 128, 128, 3)\n",
      "(16, 1, 1, 16, 16, 1, 6)\n"
     ]
    }
   ],
   "source": [
    "b = batchgenerator.batch('training')"
   ]
  },
  {
   "cell_type": "code",
   "execution_count": 13,
   "metadata": {},
   "outputs": [],
   "source": [
    "patches, masks = b"
   ]
  },
  {
   "cell_type": "code",
   "execution_count": 8,
   "metadata": {},
   "outputs": [
    {
     "data": {
      "text/plain": [
       "(16, 16, 16, 6)"
      ]
     },
     "execution_count": 8,
     "metadata": {},
     "output_type": "execute_result"
    }
   ],
   "source": [
    "masks.shape"
   ]
  },
  {
   "cell_type": "code",
   "execution_count": 8,
   "metadata": {},
   "outputs": [
    {
     "data": {
      "text/plain": [
       "(16, 128, 128, 3)"
      ]
     },
     "execution_count": 8,
     "metadata": {},
     "output_type": "execute_result"
    }
   ],
   "source": [
    "patches.shape"
   ]
  },
  {
   "cell_type": "code",
   "execution_count": null,
   "metadata": {},
   "outputs": [],
   "source": [
    "plt.imshow(patches[0])\n",
    "plt.show()"
   ]
  },
  {
   "cell_type": "code",
   "execution_count": null,
   "metadata": {},
   "outputs": [],
   "source": [
    "plt.imshow(masks[0])\n",
    "plt.show()"
   ]
  },
  {
   "cell_type": "code",
   "execution_count": null,
   "metadata": {},
   "outputs": [],
   "source": [
    "batchgenerator.stop()"
   ]
  },
  {
   "cell_type": "code",
   "execution_count": null,
   "metadata": {},
   "outputs": [],
   "source": [
    "batchgenerator._batch_manager._batch_sampler['training']._sampler._patch_sampler._dataset._images"
   ]
  },
  {
   "cell_type": "code",
   "execution_count": null,
   "metadata": {},
   "outputs": [],
   "source": [
    "\"\"\"\n",
    "Retreiving a batch\n",
    "\"\"\"\n",
    "\n",
    "batch = batchgenerator.batch('training')\n",
    "\n",
    "patches, masks = batch\n",
    "\n",
    "print('Shape patches in batch:', patches.shape)\n",
    "print('Shape masks in batch:', masks.shape)"
   ]
  },
  {
   "cell_type": "code",
   "execution_count": null,
   "metadata": {},
   "outputs": [],
   "source": [
    "batch_size = 64\n",
    "input_shape =(256,256,3)\n",
    "spacing = 0.5\n",
    "task = 'segmentation'\n",
    "\n",
    "batchgenerator = XmlBatchGeneratorVanilla(data_sources=data_sources,\n",
    "                                          label_map=label_map,\n",
    "                                          batch_size=batch_size,\n",
    "                                          input_shape=input_shape,\n",
    "                                          spacing=spacing,\n",
    "                                          input_shape=(128,128,3)\n",
    "                                          task=task,\n",
    "                                          cpus=8)\n",
    "batchgenerator.start()\n",
    "\n",
    "# batch = batchgenerator.batch('training')\n",
    "# patches, masks  = batch\n",
    "\n",
    "# print('Shape patches in batch:', patches.shape)\n",
    "# print('Shape masks in batch:', masks.shape)"
   ]
  },
  {
   "cell_type": "code",
   "execution_count": null,
   "metadata": {},
   "outputs": [],
   "source": [
    "batch_size = 16\n",
    "input_shape =(224,224,3)\n",
    "spacing = 0.5\n",
    "\n",
    "\n",
    "batchgenerator = XmlBatchGeneratorVanilla(data_sources=data_sources,\n",
    "                                          label_map=label_map,\n",
    "                                          batch_size=batch_size,\n",
    "                                          input_shape=input_shape,\n",
    "                                          seed=1,\n",
    "                                          spacing=spacing,\n",
    "                                          cpus=6)\n",
    "batchgenerator.start()\n",
    "\n",
    "# batch = batchgenerator.batch('training')\n",
    "# patches, _  = batch\n",
    "# print('Shape patches in batch:', patches.shape)"
   ]
  },
  {
   "cell_type": "code",
   "execution_count": null,
   "metadata": {},
   "outputs": [],
   "source": [
    "batchgenerator.stop()"
   ]
  },
  {
   "cell_type": "code",
   "execution_count": null,
   "metadata": {},
   "outputs": [],
   "source": [
    "from xmlpathology.io.imagereader import ImageReader\n",
    "\n",
    "class WsiPatches:\n",
    "    \n",
    "    def __init__(self, wsi_path, spacing, input_shape):\n",
    "        self._image = ImageReader(wsi_path, 0.2)\n",
    "        self._wsi_dims = image.shapes[image.level(spacing)]\n",
    "        self._x, self._y = 0, 0\n",
    "        self._input_shape = input_shape\n",
    "        \n",
    "    def __iter__(self):\n",
    "        return self\n",
    "\n",
    "    def __next__(self):\n",
    "        if self.n > self.max:\n",
    "            raise StopIteration\n",
    "\n",
    "        \n",
    "        self.n += 1\n",
    "        return result"
   ]
  },
  {
   "cell_type": "code",
   "execution_count": 30,
   "metadata": {},
   "outputs": [],
   "source": [
    "from diagmodels.models.keras.yolo import Yolo"
   ]
  },
  {
   "cell_type": "code",
   "execution_count": 31,
   "metadata": {},
   "outputs": [],
   "source": [
    "yolo_model = Yolo()"
   ]
  },
  {
   "cell_type": "code",
   "execution_count": 32,
   "metadata": {},
   "outputs": [],
   "source": [
    "yolo_model.configure(input_shape=(128,128,3),\n",
    "                     grid_shape=(16,16),\n",
    "                     anchor_shape=(3,3),\n",
    "                     batch_size=16,\n",
    "                     depth=3,\n",
    "                     classes=1,\n",
    "                     learning_rate=0.005,\n",
    "                     branching_factor=5,\n",
    "                     batch_norm=True,\n",
    "                     dropout_count=0,\n",
    "                     dropout_prob=0.0,\n",
    "                     l2_lambda=0.02,\n",
    "                     channels_first=False)"
   ]
  },
  {
   "cell_type": "code",
   "execution_count": 33,
   "metadata": {},
   "outputs": [
    {
     "name": "stdout",
     "output_type": "stream",
     "text": [
      "(None, 16, 16, 128)\n",
      "(None, 16, 16, 1, 6)\n"
     ]
    }
   ],
   "source": [
    "yolo_model.build()"
   ]
  },
  {
   "cell_type": "code",
   "execution_count": null,
   "metadata": {},
   "outputs": [],
   "source": [
    "for _ in range(1000):\n",
    "    loss = yolo_model._model_instance.train_on_batch(patches, masks)\n"
   ]
  },
  {
   "cell_type": "code",
   "execution_count": 15,
   "metadata": {},
   "outputs": [
    {
     "data": {
      "text/plain": [
       "16"
      ]
     },
     "execution_count": 15,
     "metadata": {},
     "output_type": "execute_result"
    }
   ],
   "source": [
    "len(list(masks))"
   ]
  },
  {
   "cell_type": "code",
   "execution_count": 25,
   "metadata": {},
   "outputs": [
    {
     "data": {
      "text/plain": [
       "(16, 128, 128, 3)"
      ]
     },
     "execution_count": 25,
     "metadata": {},
     "output_type": "execute_result"
    }
   ],
   "source": [
    "patches.shape"
   ]
  },
  {
   "cell_type": "code",
   "execution_count": 59,
   "metadata": {},
   "outputs": [
    {
     "data": {
      "text/plain": [
       "2.8374102"
      ]
     },
     "execution_count": 59,
     "metadata": {},
     "output_type": "execute_result"
    }
   ],
   "source": [
    "loss"
   ]
  },
  {
   "cell_type": "code",
   "execution_count": 14,
   "metadata": {},
   "outputs": [
    {
     "data": {
      "image/png": "[encoded data removed]",
      "text/plain": [
       "<Figure size 432x288 with 1 Axes>"
      ]
     },
     "metadata": {
      "needs_background": "light"
     },
     "output_type": "display_data"
    }
   ],
   "source": [
    "plt.imshow(patches[7])\n",
    "plt.show()"
   ]
  },
  {
   "cell_type": "code",
   "execution_count": 71,
   "metadata": {},
   "outputs": [
    {
     "data": {
      "text/plain": [
       "(16, 16, 1, 6)"
      ]
     },
     "execution_count": 71,
     "metadata": {},
     "output_type": "execute_result"
    }
   ],
   "source": [
    "masks[0].shape"
   ]
  },
  {
   "cell_type": "code",
   "execution_count": null,
   "metadata": {},
   "outputs": [],
   "source": []
  }
 ],
 "metadata": {
  "kernelspec": {
   "display_name": "Python 3",
   "language": "python",
   "name": "python3"
  },
  "language_info": {
   "codemirror_mode": {
    "name": "ipython",
    "version": 3
   },
   "file_extension": ".py",
   "mimetype": "text/x-python",
   "name": "python",
   "nbconvert_exporter": "python",
   "pygments_lexer": "ipython3",
   "version": "3.7.4"
  }
 },
 "nbformat": 4,
 "nbformat_minor": 4
}
