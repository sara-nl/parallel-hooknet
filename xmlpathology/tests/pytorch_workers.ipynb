{
 "cells": [
  {
   "cell_type": "code",
   "execution_count": 1,
   "metadata": {},
   "outputs": [],
   "source": [
    "import torch\n",
    "from torch.utils.data import Dataset, DataLoader\n",
    "from xmlpathology.xmlbatchgenerator.generators import XmlBatchGeneratorVanilla\n",
    "import time"
   ]
  },
  {
   "cell_type": "code",
   "execution_count": 2,
   "metadata": {},
   "outputs": [],
   "source": [
    "data_sources = {'training': [{'image_path': '/home/mart/Radboudumc/data/breast/T10-10714-I-5-1.tif',\n",
    "                              'annotation_path': '/home/mart/Radboudumc/data/breast/level1/T10-10714-I-5-1.xml'}]}"
   ]
  },
  {
   "cell_type": "code",
   "execution_count": 3,
   "metadata": {},
   "outputs": [],
   "source": [
    "class MyDataset(Dataset):\n",
    "    \"\"\"Face Landmarks dataset.\"\"\"\n",
    "\n",
    "    def __init__(self, data_sources, label_map):\n",
    "        \"\"\"\n",
    "        Args:\n",
    "            csv_file (string): Path to the csv file with annotations.\n",
    "            root_dir (string): Directory with all the images.\n",
    "            transform (callable, optional): Optional transform to be applied\n",
    "                on a sample.\n",
    "        \"\"\"\n",
    "        self._generator = XmlBatchGeneratorVanilla(data_sources=data_sources, label_map=label_map, batch_size=1)\n",
    "\n",
    "    def __len__(self):\n",
    "        return 100\n",
    "\n",
    "    def __getitem__(self, idx):\n",
    "        return self._generator.batch('training')\n",
    "\n",
    "\n",
    "dset = MyDataset(data_sources=data_sources, label_map={'idc':1, 'stroma':2, 'fatty tissue': 3})\n",
    "dloader = DataLoader(dset, num_workers=6)"
   ]
  },
  {
   "cell_type": "code",
   "execution_count": 8,
   "metadata": {},
   "outputs": [
    {
     "name": "stdout",
     "output_type": "stream",
     "text": [
      "1.294485330581665\n"
     ]
    }
   ],
   "source": [
    "t1 = time.time()\n",
    "for idx, sample in enumerate(dloader):\n",
    "    s = sample\n",
    "t2 = time.time()\n",
    "\n",
    "print(t2-t1)"
   ]
  },
  {
   "cell_type": "code",
   "execution_count": 3,
   "metadata": {},
   "outputs": [],
   "source": [
    "generator = XmlBatchGeneratorVanilla(data_sources=data_sources, label_map={'idc':1, 'stroma':2, 'fatty tissue': 3}, cpus=6, batch_size=1) #'stroma':2, 'fatty tissue': 3"
   ]
  },
  {
   "cell_type": "code",
   "execution_count": 4,
   "metadata": {},
   "outputs": [
    {
     "name": "stdout",
     "output_type": "stream",
     "text": [
      "batch generator started (multi-core)\n"
     ]
    }
   ],
   "source": [
    "generator.start()"
   ]
  },
  {
   "cell_type": "code",
   "execution_count": 9,
   "metadata": {},
   "outputs": [
    {
     "name": "stdout",
     "output_type": "stream",
     "text": [
      "10.339300870895386\n"
     ]
    }
   ],
   "source": [
    "t1 = time.time()\n",
    "for idx in range(1000):\n",
    "    s = generator.batch('training')\n",
    "#     print(idx)\n",
    "t2 = time.time()\n",
    "\n",
    "print(t2-t1)"
   ]
  },
  {
   "cell_type": "code",
   "execution_count": 11,
   "metadata": {},
   "outputs": [],
   "source": [
    "generator.stop()"
   ]
  },
  {
   "cell_type": "code",
   "execution_count": null,
   "metadata": {},
   "outputs": [],
   "source": []
  }
 ],
 "metadata": {
  "kernelspec": {
   "display_name": "Python 3",
   "language": "python",
   "name": "python3"
  },
  "language_info": {
   "codemirror_mode": {
    "name": "ipython",
    "version": 3
   },
   "file_extension": ".py",
   "mimetype": "text/x-python",
   "name": "python",
   "nbconvert_exporter": "python",
   "pygments_lexer": "ipython3",
   "version": "3.7.4"
  }
 },
 "nbformat": 4,
 "nbformat_minor": 4
}
