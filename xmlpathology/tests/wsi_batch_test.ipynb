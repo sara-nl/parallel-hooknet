{
 "cells": [
  {
   "cell_type": "code",
   "execution_count": 1,
   "metadata": {},
   "outputs": [],
   "source": [
    "import yaml\n",
    "from pprint import pprint\n",
    "from xmlpathology.xmlbatchgenerator.auxiliary import WSIPatchGenerator\n",
    "from tqdm.notebook import tqdm"
   ]
  },
  {
   "cell_type": "code",
   "execution_count": 2,
   "metadata": {},
   "outputs": [
    {
     "name": "stdout",
     "output_type": "stream",
     "text": [
      "data sources:\n",
      "{'training': [{'annotation_path': '/home/mart/Radboudumc/data/lymphocytes/1079_CD3.mrxs',\n",
      "               'image_path': '/home/mart/Radboudumc/data/lymphocytes/1079_CD3.mrxs'}]}\n"
     ]
    }
   ],
   "source": [
    "#Data setup\n",
    "data_sources_path = '/home/mart/Radboudumc/data/lymphocytes/lymphocytes.yml'\n",
    "with open(data_sources_path) as f:\n",
    "    data_sources = yaml.load(f, yaml.FullLoader)\n",
    "print('data sources:')\n",
    "\n",
    "pprint(data_sources)\n",
    "label_map={'dot':1}"
   ]
  },
  {
   "cell_type": "code",
   "execution_count": 3,
   "metadata": {},
   "outputs": [
    {
     "name": "stdout",
     "output_type": "stream",
     "text": [
      "4.0\n",
      "4.0\n",
      "4.0\n",
      "4.0\n",
      "4.0\n",
      "4.0\n",
      "batch generator started (multi-core)\n"
     ]
    }
   ],
   "source": [
    "spacing = 4.0\n",
    "cpus = 6\n",
    "log_path = '/home/mart/Radboudumc/code/logpath/'\n",
    "batchgen = WSIPatchGenerator(data_sources=data_sources, label_map=label_map, cpus=cpus, spacing=spacing, log_path=log_path)\n",
    "batchgen.start()"
   ]
  },
  {
   "cell_type": "code",
   "execution_count": 5,
   "metadata": {},
   "outputs": [],
   "source": [
    "batchgen.stop()"
   ]
  },
  {
   "cell_type": "code",
   "execution_count": 4,
   "metadata": {},
   "outputs": [
    {
     "data": {
      "application/vnd.jupyter.widget-view+json": {
       "model_id": "e0f0ff3cf5794f26898b8091fe9f7834",
       "version_major": 2,
       "version_minor": 0
      },
      "text/plain": [
       "HBox(children=(FloatProgress(value=0.0, max=78.0), HTML(value='')))"
      ]
     },
     "metadata": {},
     "output_type": "display_data"
    },
    {
     "name": "stdout",
     "output_type": "stream",
     "text": [
      "\n"
     ]
    }
   ],
   "source": [
    "for image_annotation in batchgen().datasets['training'].image_annotations:\n",
    "    for _ in tqdm(image_annotation.annotations):\n",
    "        batch = batchgen.batch('training')\n",
    "        "
   ]
  }
 ],
 "metadata": {
  "kernelspec": {
   "display_name": "Python 3",
   "language": "python",
   "name": "python3"
  },
  "language_info": {
   "codemirror_mode": {
    "name": "ipython",
    "version": 3
   },
   "file_extension": ".py",
   "mimetype": "text/x-python",
   "name": "python",
   "nbconvert_exporter": "python",
   "pygments_lexer": "ipython3",
   "version": "3.7.4"
  }
 },
 "nbformat": 4,
 "nbformat_minor": 4
}
