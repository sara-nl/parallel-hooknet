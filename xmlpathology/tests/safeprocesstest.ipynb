{
 "cells": [
  {
   "cell_type": "code",
   "execution_count": 1,
   "metadata": {},
   "outputs": [],
   "source": [
    "from xmlpathology.xmlbatchgenerator.utils.utils import SafeProcess\n",
    "from multiprocessing import Queue\n",
    "import numpy as np\n",
    "import random\n",
    "import time"
   ]
  },
  {
   "cell_type": "code",
   "execution_count": 2,
   "metadata": {},
   "outputs": [],
   "source": [
    "command_queue = Queue(10)"
   ]
  },
  {
   "cell_type": "code",
   "execution_count": null,
   "metadata": {},
   "outputs": [],
   "source": []
  },
  {
   "cell_type": "code",
   "execution_count": null,
   "metadata": {},
   "outputs": [],
   "source": []
  },
  {
   "cell_type": "code",
   "execution_count": 3,
   "metadata": {},
   "outputs": [],
   "source": [
    "class SimpleProcess(SafeProcess):\n",
    "    \n",
    "    def __init__(self, command_queue):\n",
    "        super().__init__(command_queue)\n",
    "        \n",
    "    def _reset(self, reset_command):\n",
    "        time.sleep(10)\n",
    "#         print(np.random.randint(1, 10))\n",
    "#         print(reset_command)\n",
    "        print('heey')\n",
    "    \n",
    "    def _update(self, update_command):\n",
    "        print(update_command)\n",
    "        \n",
    "    def myprint(self, mess):\n",
    "        print(mess)"
   ]
  },
  {
   "cell_type": "code",
   "execution_count": 4,
   "metadata": {},
   "outputs": [],
   "source": [
    "simpleprocess = SimpleProcess(command_queue)"
   ]
  },
  {
   "cell_type": "code",
   "execution_count": 5,
   "metadata": {},
   "outputs": [
    {
     "name": "stdout",
     "output_type": "stream",
     "text": [
      "heey\n",
      "heey\n",
      "heey\n"
     ]
    },
    {
     "name": "stderr",
     "output_type": "stream",
     "text": [
      "Process SimpleProcess-1:\n",
      "Traceback (most recent call last):\n",
      "  File \"/home/mart/anaconda3/lib/python3.7/multiprocessing/process.py\", line 297, in _bootstrap\n",
      "    self.run()\n",
      "  File \"/home/mart/radboudumc/lib/xml-pathology/xmlpathology/xmlbatchgenerator/utils/utils.py\", line 25, in run\n",
      "    self._reset(command_message[1])\n",
      "  File \"<ipython-input-3-6a8304928556>\", line 7, in _reset\n",
      "    time.sleep(10)\n",
      "KeyboardInterrupt\n"
     ]
    }
   ],
   "source": [
    "simpleprocess.start()"
   ]
  },
  {
   "cell_type": "code",
   "execution_count": 6,
   "metadata": {},
   "outputs": [],
   "source": [
    "for i in range(10):\n",
    "    command_queue.put(('reset', 'hello'))\n"
   ]
  },
  {
   "cell_type": "code",
   "execution_count": null,
   "metadata": {},
   "outputs": [],
   "source": []
  },
  {
   "cell_type": "code",
   "execution_count": 10,
   "metadata": {},
   "outputs": [
    {
     "name": "stdout",
     "output_type": "stream",
     "text": [
      "gek10\n"
     ]
    }
   ],
   "source": [
    "simpleprocess.myprint('gek10')"
   ]
  },
  {
   "cell_type": "code",
   "execution_count": null,
   "metadata": {},
   "outputs": [],
   "source": []
  },
  {
   "cell_type": "code",
   "execution_count": null,
   "metadata": {},
   "outputs": [],
   "source": []
  }
 ],
 "metadata": {
  "kernelspec": {
   "display_name": "Python 3",
   "language": "python",
   "name": "python3"
  },
  "language_info": {
   "codemirror_mode": {
    "name": "ipython",
    "version": 3
   },
   "file_extension": ".py",
   "mimetype": "text/x-python",
   "name": "python",
   "nbconvert_exporter": "python",
   "pygments_lexer": "ipython3",
   "version": "3.7.4"
  }
 },
 "nbformat": 4,
 "nbformat_minor": 4
}
