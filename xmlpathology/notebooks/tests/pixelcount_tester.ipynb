{
 "cells": [
  {
   "cell_type": "code",
   "execution_count": 5,
   "metadata": {},
   "outputs": [],
   "source": [
    "from xmlpathology.batchgenerator.data.dataset import DataSet\n",
    "from xmlpathology.batchgenerator.utils import create_data_source\n",
    "from xmlpathology.batchgenerator.core.controllers import SamplerController, LabelControllerLoader, PixelLabelController"
   ]
  },
  {
   "cell_type": "code",
   "execution_count": 7,
   "metadata": {},
   "outputs": [
    {
     "name": "stdout",
     "output_type": "stream",
     "text": [
      "labels ['dcis', 'stroma', 'fatty tissue']\n"
     ]
    }
   ],
   "source": [
    "datasource = create_data_source('/home/mart/Radboudumc/data/breast/', \n",
    "                                annotations_path='/home/mart/Radboudumc/data/breast/level1/')\n",
    "\n",
    "dataset = DataSet('training', data_source=datasource['training'], label_map={'dcis': 1, 'stroma': 2, 'fatty tissue': 3})\n",
    "pixel_sampler_controller = SamplerController(dataset, label_controller_loader=LabelControllerLoader(PixelLabelController))"
   ]
  },
  {
   "cell_type": "code",
   "execution_count": 34,
   "metadata": {},
   "outputs": [
    {
     "name": "stdout",
     "output_type": "stream",
     "text": [
      "[(2, 11)]\n",
      "stroma\n"
     ]
    }
   ],
   "source": [
    "label = pixel_sampler_controller.sample(1)\n",
    "print(label)\n",
    "label_name = dataset.image_annotations[label[0][0]].annotations[label[0][1]].label_name\n",
    "print(label_name)\n",
    "pixel_count = {'pixel_count': {label_name: 1}}"
   ]
  },
  {
   "cell_type": "code",
   "execution_count": 35,
   "metadata": {},
   "outputs": [
    {
     "name": "stdout",
     "output_type": "stream",
     "text": [
      "{'dcis': 7, 'stroma': 5, 'fatty tissue': 5}\n"
     ]
    }
   ],
   "source": [
    "pixel_sampler_controller.update(pixel_count)\n",
    "print(pixel_sampler_controller._label_controller._pixel_count_per_label)"
   ]
  },
  {
   "cell_type": "code",
   "execution_count": null,
   "metadata": {},
   "outputs": [],
   "source": []
  }
 ],
 "metadata": {
  "kernelspec": {
   "display_name": "Python 3",
   "language": "python",
   "name": "python3"
  },
  "language_info": {
   "codemirror_mode": {
    "name": "ipython",
    "version": 3
   },
   "file_extension": ".py",
   "mimetype": "text/x-python",
   "name": "python",
   "nbconvert_exporter": "python",
   "pygments_lexer": "ipython3",
   "version": "3.7.4"
  }
 },
 "nbformat": 4,
 "nbformat_minor": 4
}
